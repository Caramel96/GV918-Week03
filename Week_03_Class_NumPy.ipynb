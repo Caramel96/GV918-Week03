{
  "nbformat": 4,
  "nbformat_minor": 0,
  "metadata": {
    "colab": {
      "name": "Week 03 Class - NumPy.ipynb",
      "provenance": [],
      "collapsed_sections": [],
      "toc_visible": true
    },
    "kernelspec": {
      "name": "python3",
      "display_name": "Python 3"
    }
  },
  "cells": [
    {
      "cell_type": "markdown",
      "metadata": {
        "id": "MHE4d-Ptt9Wh"
      },
      "source": [
        "## Import NumPy"
      ]
    },
    {
      "cell_type": "code",
      "metadata": {
        "id": "Eq5fIicst5O1"
      },
      "source": [
        "import numpy as np"
      ],
      "execution_count": 1,
      "outputs": []
    },
    {
      "cell_type": "markdown",
      "metadata": {
        "id": "UmmODwnnuB8M"
      },
      "source": [
        "## Create NumPy arrays"
      ]
    },
    {
      "cell_type": "markdown",
      "metadata": {
        "id": "jPiQM5eyuksQ"
      },
      "source": [
        "### Create following 1d arrays\n",
        "\n",
        "```\n",
        "array([0, 1, 2, 3, 4, 5, 6, 7, 8, 9])\n",
        "\n",
        "array([  1,   2,   3,   4,   5,   6,   7,   8,   9,  10,  11,  12,  13,\n",
        "        14,  15,  16,  17,  18,  19,  20,  21,  22,  23,  24,  25,  26,\n",
        "        27,  28,  29,  30,  31,  32,  33,  34,  35,  36,  37,  38,  39,\n",
        "        40,  41,  42,  43,  44,  45,  46,  47,  48,  49,  50,  51,  52,\n",
        "        53,  54,  55,  56,  57,  58,  59,  60,  61,  62,  63,  64,  65,\n",
        "        66,  67,  68,  69,  70,  71,  72,  73,  74,  75,  76,  77,  78,\n",
        "        79,  80,  81,  82,  83,  84,  85,  86,  87,  88,  89,  90,  91,\n",
        "        92,  93,  94,  95,  96,  97,  98,  99, 100])\n",
        "\n",
        "array([1., 1., 1., 1., 1.])\n",
        "\n",
        "```\n"
      ]
    },
    {
      "cell_type": "code",
      "metadata": {
        "id": "_JDeQYayuWyQ",
        "outputId": "bc3f0f9a-3f1b-4e56-af4d-ffbb99765cb7",
        "colab": {
          "base_uri": "https://localhost:8080/",
          "height": 34
        }
      },
      "source": [
        "arr_1d = np.arange(10)\n",
        "arr_1d"
      ],
      "execution_count": 6,
      "outputs": [
        {
          "output_type": "execute_result",
          "data": {
            "text/plain": [
              "array([0, 1, 2, 3, 4, 5, 6, 7, 8, 9])"
            ]
          },
          "metadata": {
            "tags": []
          },
          "execution_count": 6
        }
      ]
    },
    {
      "cell_type": "code",
      "metadata": {
        "id": "CkS76TSLLG1J",
        "outputId": "2dd3b20c-f7df-4bf7-cfbf-d57beb374a16",
        "colab": {
          "base_uri": "https://localhost:8080/",
          "height": 119
        }
      },
      "source": [
        "arr_list2 = np.arange(1, 100)\n",
        "arr_list2"
      ],
      "execution_count": 8,
      "outputs": [
        {
          "output_type": "execute_result",
          "data": {
            "text/plain": [
              "array([ 1,  2,  3,  4,  5,  6,  7,  8,  9, 10, 11, 12, 13, 14, 15, 16, 17,\n",
              "       18, 19, 20, 21, 22, 23, 24, 25, 26, 27, 28, 29, 30, 31, 32, 33, 34,\n",
              "       35, 36, 37, 38, 39, 40, 41, 42, 43, 44, 45, 46, 47, 48, 49, 50, 51,\n",
              "       52, 53, 54, 55, 56, 57, 58, 59, 60, 61, 62, 63, 64, 65, 66, 67, 68,\n",
              "       69, 70, 71, 72, 73, 74, 75, 76, 77, 78, 79, 80, 81, 82, 83, 84, 85,\n",
              "       86, 87, 88, 89, 90, 91, 92, 93, 94, 95, 96, 97, 98, 99])"
            ]
          },
          "metadata": {
            "tags": []
          },
          "execution_count": 8
        }
      ]
    },
    {
      "cell_type": "code",
      "metadata": {
        "id": "qLxhvc_SLUEN",
        "outputId": "025faced-844a-475a-c5e8-e397f4602df3",
        "colab": {
          "base_uri": "https://localhost:8080/",
          "height": 34
        }
      },
      "source": [
        "arr_ones = np.ones(5)\n",
        "arr_ones"
      ],
      "execution_count": 10,
      "outputs": [
        {
          "output_type": "execute_result",
          "data": {
            "text/plain": [
              "array([1., 1., 1., 1., 1.])"
            ]
          },
          "metadata": {
            "tags": []
          },
          "execution_count": 10
        }
      ]
    },
    {
      "cell_type": "markdown",
      "metadata": {
        "id": "3gxN51KiuXT4"
      },
      "source": [
        "### Create following 2d arrays\n",
        "\n",
        "```\n",
        "array([[31, 22, 48],\n",
        "       [52, 33, 40],\n",
        "       [72,  8, 37]])\n",
        "\n",
        "array([[0., 0., 0., 0., 0.],\n",
        "       [0., 0., 0., 0., 0.],\n",
        "       [0., 0., 0., 0., 0.],\n",
        "       [0., 0., 0., 0., 0.]])\n",
        "\n",
        "array([[ 0,  1,  2,  3],\n",
        "       [ 4,  5,  6,  7],\n",
        "       [ 8,  9, 10, 11],\n",
        "       [12, 13, 14, 15],\n",
        "       [16, 17, 18, 19],\n",
        "       [20, 21, 22, 23]])\n",
        "\n",
        "```"
      ]
    },
    {
      "cell_type": "code",
      "metadata": {
        "id": "x_Fjced9MZ2v",
        "outputId": "dd0ee58e-c683-4a54-c1a2-5daa6a02e9dd",
        "colab": {
          "base_uri": "https://localhost:8080/",
          "height": 68
        }
      },
      "source": [
        "np.array([[31, 22, 48],\n",
        "       [52, 33, 40],\n",
        "       [72,  8, 37]])"
      ],
      "execution_count": 29,
      "outputs": [
        {
          "output_type": "execute_result",
          "data": {
            "text/plain": [
              "array([[31, 22, 48],\n",
              "       [52, 33, 40],\n",
              "       [72,  8, 37]])"
            ]
          },
          "metadata": {
            "tags": []
          },
          "execution_count": 29
        }
      ]
    },
    {
      "cell_type": "code",
      "metadata": {
        "id": "0ed7y1ozuVg7",
        "outputId": "f62ed66b-b05f-4534-a89c-6349a98b37fd",
        "colab": {
          "base_uri": "https://localhost:8080/",
          "height": 85
        }
      },
      "source": [
        "np.zeros((4, 5))\n"
      ],
      "execution_count": 30,
      "outputs": [
        {
          "output_type": "execute_result",
          "data": {
            "text/plain": [
              "array([[0., 0., 0., 0., 0.],\n",
              "       [0., 0., 0., 0., 0.],\n",
              "       [0., 0., 0., 0., 0.],\n",
              "       [0., 0., 0., 0., 0.]])"
            ]
          },
          "metadata": {
            "tags": []
          },
          "execution_count": 30
        }
      ]
    },
    {
      "cell_type": "code",
      "metadata": {
        "id": "E2F8QL_9OKuU",
        "outputId": "f0e841b4-c3c7-4443-ea19-30e207a88a8f",
        "colab": {
          "base_uri": "https://localhost:8080/",
          "height": 119
        }
      },
      "source": [
        "arr_vec = np.arange(24)\n",
        "arr_vec.reshape(6, 4)"
      ],
      "execution_count": 27,
      "outputs": [
        {
          "output_type": "execute_result",
          "data": {
            "text/plain": [
              "array([[ 0,  1,  2,  3],\n",
              "       [ 4,  5,  6,  7],\n",
              "       [ 8,  9, 10, 11],\n",
              "       [12, 13, 14, 15],\n",
              "       [16, 17, 18, 19],\n",
              "       [20, 21, 22, 23]])"
            ]
          },
          "metadata": {
            "tags": []
          },
          "execution_count": 27
        }
      ]
    },
    {
      "cell_type": "markdown",
      "metadata": {
        "id": "UndpTevKwPfi"
      },
      "source": [
        "### Generate arrays with random numbers\n",
        "\n",
        "- 1d array with 10 numbers from random uniform distribution\n",
        "- 1d array with 25 numbers from normal distribution\n",
        "- 4 x 5 array from random integer in [0, 100]"
      ]
    },
    {
      "cell_type": "code",
      "metadata": {
        "id": "aOfOmouhvlXu",
        "outputId": "81b38a6c-8d08-478a-936b-3de33888759c",
        "colab": {
          "base_uri": "https://localhost:8080/",
          "height": 51
        }
      },
      "source": [
        "np.random.rand(10)"
      ],
      "execution_count": 32,
      "outputs": [
        {
          "output_type": "execute_result",
          "data": {
            "text/plain": [
              "array([0.25051976, 0.1242252 , 0.33880603, 0.86179508, 0.2888328 ,\n",
              "       0.7598512 , 0.83073417, 0.25283111, 0.27609578, 0.7436006 ])"
            ]
          },
          "metadata": {
            "tags": []
          },
          "execution_count": 32
        }
      ]
    },
    {
      "cell_type": "code",
      "metadata": {
        "id": "ktJ55qbiRP6k",
        "outputId": "d4069cc5-9bcf-4022-b6bd-065c7397d059",
        "colab": {
          "base_uri": "https://localhost:8080/",
          "height": 102
        }
      },
      "source": [
        "np.random.randn(25)"
      ],
      "execution_count": 34,
      "outputs": [
        {
          "output_type": "execute_result",
          "data": {
            "text/plain": [
              "array([ 0.7746116 ,  1.48308838, -0.42915386, -0.79074516,  1.22557533,\n",
              "       -0.49528014, -0.62743991,  0.07913322,  0.16702618,  0.55774225,\n",
              "       -1.90114077, -0.85300437,  0.03059279,  0.4999538 , -0.8718288 ,\n",
              "        0.71798183,  0.05770028, -0.90918719,  0.10169553,  0.66391635,\n",
              "        1.03821408,  0.31567941, -0.34428912, -0.69803357, -0.30680786])"
            ]
          },
          "metadata": {
            "tags": []
          },
          "execution_count": 34
        }
      ]
    },
    {
      "cell_type": "code",
      "metadata": {
        "id": "RLJjM1y0Rmyb",
        "outputId": "803516a1-aaf2-44ad-9019-6cd1fda3507c",
        "colab": {
          "base_uri": "https://localhost:8080/",
          "height": 85
        }
      },
      "source": [
        "np.random.randint(0, 100, (4, 5))"
      ],
      "execution_count": 49,
      "outputs": [
        {
          "output_type": "execute_result",
          "data": {
            "text/plain": [
              "array([[82, 54, 18,  2, 52],\n",
              "       [89, 44, 46, 63, 51],\n",
              "       [ 4, 53, 81, 33,  8],\n",
              "       [11, 46, 31, 59, 60]])"
            ]
          },
          "metadata": {
            "tags": []
          },
          "execution_count": 49
        }
      ]
    },
    {
      "cell_type": "markdown",
      "metadata": {
        "id": "9SeTuV27ba77"
      },
      "source": [
        "## Array Indexing\n"
      ]
    },
    {
      "cell_type": "markdown",
      "metadata": {
        "id": "x5yIpaijg5TU"
      },
      "source": [
        "\n",
        "### 1d array indexing \n",
        "\n",
        "- From the following array, extract the elements shown below "
      ]
    },
    {
      "cell_type": "code",
      "metadata": {
        "id": "b5uC3m9Qbcy0"
      },
      "source": [
        "arr_1d = np.array([41, 42, 43, 44, 45, 46, 47, 48, 49, 50, 51, 52, \n",
        "                   53, 54, 55, 56, 57, 58, 59, 60])"
      ],
      "execution_count": 51,
      "outputs": []
    },
    {
      "cell_type": "markdown",
      "metadata": {
        "id": "8hizvuB7c44I"
      },
      "source": [
        "1. \n",
        "    ```\n",
        "    array([41, 42, 43, 44])\n",
        "    ```\n",
        "1. \n",
        "    ```\n",
        "    array([56, 57, 58, 59, 60])\n",
        "    ```\n",
        "1. \n",
        "    ```\n",
        "    array([51, 52, 53])\n",
        "    ```\n",
        "1. \n",
        "    ```\n",
        "    array([42, 55, 49])\n",
        "    ```\n"
      ]
    },
    {
      "cell_type": "code",
      "metadata": {
        "id": "2P5eHDXXVhmN",
        "outputId": "fa57f41b-0c2a-42ce-e11f-7bafc8f685a8",
        "colab": {
          "base_uri": "https://localhost:8080/",
          "height": 34
        }
      },
      "source": [
        "arr_1d[:4]"
      ],
      "execution_count": 54,
      "outputs": [
        {
          "output_type": "execute_result",
          "data": {
            "text/plain": [
              "array([41, 42, 43, 44])"
            ]
          },
          "metadata": {
            "tags": []
          },
          "execution_count": 54
        }
      ]
    },
    {
      "cell_type": "code",
      "metadata": {
        "id": "26ljo_BRWAED",
        "outputId": "98a640bf-98bf-4b1d-f6d9-17a2b2965201",
        "colab": {
          "base_uri": "https://localhost:8080/",
          "height": 34
        }
      },
      "source": [
        "arr_1d[-5:]"
      ],
      "execution_count": 56,
      "outputs": [
        {
          "output_type": "execute_result",
          "data": {
            "text/plain": [
              "array([56, 57, 58, 59, 60])"
            ]
          },
          "metadata": {
            "tags": []
          },
          "execution_count": 56
        }
      ]
    },
    {
      "cell_type": "code",
      "metadata": {
        "id": "pyaH0gSjWHpa",
        "outputId": "0d2e3c7e-8880-4155-ecc3-25167bb20adb",
        "colab": {
          "base_uri": "https://localhost:8080/",
          "height": 34
        }
      },
      "source": [
        "arr_1d[arr_1d < 45]"
      ],
      "execution_count": 59,
      "outputs": [
        {
          "output_type": "execute_result",
          "data": {
            "text/plain": [
              "array([41, 42, 43, 44])"
            ]
          },
          "metadata": {
            "tags": []
          },
          "execution_count": 59
        }
      ]
    },
    {
      "cell_type": "code",
      "metadata": {
        "id": "21Wi5zhjWw3t",
        "outputId": "691e0073-c82e-4f4b-a77d-12201034e438",
        "colab": {
          "base_uri": "https://localhost:8080/",
          "height": 34
        }
      },
      "source": [
        "arr_1d[10:13]"
      ],
      "execution_count": 63,
      "outputs": [
        {
          "output_type": "execute_result",
          "data": {
            "text/plain": [
              "array([51, 52, 53])"
            ]
          },
          "metadata": {
            "tags": []
          },
          "execution_count": 63
        }
      ]
    },
    {
      "cell_type": "code",
      "metadata": {
        "id": "u26lPEAGXBNm",
        "outputId": "33117475-1b5a-4dad-f267-903a07a4d0af",
        "colab": {
          "base_uri": "https://localhost:8080/",
          "height": 34
        }
      },
      "source": [
        "arr_1d[(arr_1d < 54) & (arr_1d > 50)]"
      ],
      "execution_count": 69,
      "outputs": [
        {
          "output_type": "execute_result",
          "data": {
            "text/plain": [
              "array([51, 52, 53])"
            ]
          },
          "metadata": {
            "tags": []
          },
          "execution_count": 69
        }
      ]
    },
    {
      "cell_type": "code",
      "metadata": {
        "id": "Jw7UgzU0X2Nn",
        "outputId": "7942e6bf-c261-420f-b4ba-236f9630cb72",
        "colab": {
          "base_uri": "https://localhost:8080/",
          "height": 34
        }
      },
      "source": [
        "arr_1d[[1, 14, 8 ]]"
      ],
      "execution_count": 70,
      "outputs": [
        {
          "output_type": "execute_result",
          "data": {
            "text/plain": [
              "array([42, 55, 49])"
            ]
          },
          "metadata": {
            "tags": []
          },
          "execution_count": 70
        }
      ]
    },
    {
      "cell_type": "markdown",
      "metadata": {
        "id": "Z-1IJ3bpgzO1"
      },
      "source": [
        "### 2d array indexing\n",
        "\n",
        "- Do the same task for the following 2d array\n"
      ]
    },
    {
      "cell_type": "code",
      "metadata": {
        "id": "uDXhuohCbrTN"
      },
      "source": [
        "arr_2d = np.array([[11, 12, 13, 14, 15],\n",
        "       [21, 22, 23, 24, 25],\n",
        "       [31, 32, 33, 34, 35],\n",
        "       [41, 42, 43, 44, 45]])"
      ],
      "execution_count": 81,
      "outputs": []
    },
    {
      "cell_type": "markdown",
      "metadata": {
        "id": "W1TgSJBEll7E"
      },
      "source": [
        "Using indexing, generate the following sub-arrays\n",
        "\n",
        "1. \n",
        "    ```\n",
        "    array([[31, 32, 33, 34, 35],\n",
        "          [41, 42, 43, 44, 45]])\n",
        "    ```\n",
        "1. \n",
        "    ```\n",
        "    array([[11, 12],\n",
        "          [21, 22],\n",
        "          [31, 32],\n",
        "          [41, 42]])    \n",
        "    ```\n",
        "1. \n",
        "    ```\n",
        "    array([[32, 33],\n",
        "           [42, 43]])\n",
        "    ```\n",
        "1. \n",
        "    ```\n",
        "    array([[23, 25],\n",
        "          [43, 45]])    \n",
        "    ```\n"
      ]
    },
    {
      "cell_type": "code",
      "metadata": {
        "id": "bunids-6YRnJ",
        "outputId": "3e6362f3-81ac-4dae-8682-0422167e0c30",
        "colab": {
          "base_uri": "https://localhost:8080/",
          "height": 51
        }
      },
      "source": [
        "arr_2d[2:]"
      ],
      "execution_count": 76,
      "outputs": [
        {
          "output_type": "execute_result",
          "data": {
            "text/plain": [
              "array([[31, 32, 33, 34, 35],\n",
              "       [41, 42, 43, 44, 45]])"
            ]
          },
          "metadata": {
            "tags": []
          },
          "execution_count": 76
        }
      ]
    },
    {
      "cell_type": "code",
      "metadata": {
        "id": "PBweu3QPYy2M",
        "outputId": "4de53bf8-d4fc-418e-d49a-4e9ff78ac890",
        "colab": {
          "base_uri": "https://localhost:8080/",
          "height": 85
        }
      },
      "source": [
        "arr_2d[:,:2]"
      ],
      "execution_count": 83,
      "outputs": [
        {
          "output_type": "execute_result",
          "data": {
            "text/plain": [
              "array([[11, 12],\n",
              "       [21, 22],\n",
              "       [31, 32],\n",
              "       [41, 42]])"
            ]
          },
          "metadata": {
            "tags": []
          },
          "execution_count": 83
        }
      ]
    },
    {
      "cell_type": "code",
      "metadata": {
        "id": "IPkuuxdQZVIp",
        "outputId": "5b9e187c-41c5-42f5-f695-3161329c67b8",
        "colab": {
          "base_uri": "https://localhost:8080/",
          "height": 51
        }
      },
      "source": [
        "arr_2d[-2:,1:3]"
      ],
      "execution_count": 85,
      "outputs": [
        {
          "output_type": "execute_result",
          "data": {
            "text/plain": [
              "array([[32, 33],\n",
              "       [42, 43]])"
            ]
          },
          "metadata": {
            "tags": []
          },
          "execution_count": 85
        }
      ]
    },
    {
      "cell_type": "code",
      "metadata": {
        "id": "OloppBAQZigW",
        "outputId": "842bab9d-ede9-492d-ba21-9b16aabf60a7",
        "colab": {
          "base_uri": "https://localhost:8080/",
          "height": 164
        }
      },
      "source": [
        "arr_2d[[1,4]][: [3,5]]"
      ],
      "execution_count": 89,
      "outputs": [
        {
          "output_type": "error",
          "ename": "IndexError",
          "evalue": "ignored",
          "traceback": [
            "\u001b[0;31m---------------------------------------------------------------------------\u001b[0m",
            "\u001b[0;31mIndexError\u001b[0m                                Traceback (most recent call last)",
            "\u001b[0;32m<ipython-input-89-bb466067dc65>\u001b[0m in \u001b[0;36m<module>\u001b[0;34m()\u001b[0m\n\u001b[0;32m----> 1\u001b[0;31m \u001b[0marr_2d\u001b[0m\u001b[0;34m[\u001b[0m\u001b[0;34m[\u001b[0m\u001b[0;36m1\u001b[0m\u001b[0;34m,\u001b[0m\u001b[0;36m4\u001b[0m\u001b[0;34m]\u001b[0m\u001b[0;34m]\u001b[0m\u001b[0;34m[\u001b[0m\u001b[0;34m:\u001b[0m \u001b[0;34m[\u001b[0m\u001b[0;36m3\u001b[0m\u001b[0;34m,\u001b[0m\u001b[0;36m5\u001b[0m\u001b[0;34m]\u001b[0m\u001b[0;34m]\u001b[0m\u001b[0;34m\u001b[0m\u001b[0;34m\u001b[0m\u001b[0m\n\u001b[0m",
            "\u001b[0;31mIndexError\u001b[0m: index 4 is out of bounds for axis 0 with size 4"
          ]
        }
      ]
    },
    {
      "cell_type": "markdown",
      "metadata": {
        "id": "w9WRZ5QKmbF2"
      },
      "source": [
        ""
      ]
    },
    {
      "cell_type": "code",
      "metadata": {
        "id": "N5qSNNoVnGWS"
      },
      "source": [
        "arr_int = np.array([-448,  754,  990,   18, -689,  641, -199,  -44, -557, -222,  -18,\n",
        "       -687,  -69,  106,  821,  628, -427, -269, -624, -478,  886,  841,\n",
        "        999,   99,  964, -312,   42,  186,  298,  170, -441,  761,  900,\n",
        "       -207,  626, -322, -351,  169,  523, -131, -508,  181,  714,  171,\n",
        "       -131,  525,  810, -173,  424, -265,  242,  313,   57,  423,  685,\n",
        "        -16,  732,  372,  661,  654, -106,  443,  281, -125,  523,  476,\n",
        "        525,  577,  938, -140,  333,  180, -348,  591, -135,  961,  805,\n",
        "       -488, -422,  538, -433,  873,  568, -202, -181,  986,  769, -682,\n",
        "       -645,  883, -529,  -27,  656,  153, -165, -242, -678,  635, -135,\n",
        "        364])"
      ],
      "execution_count": 91,
      "outputs": []
    },
    {
      "cell_type": "markdown",
      "metadata": {
        "id": "Zo6WfmKAmfwL"
      },
      "source": [
        "For the array above, find the following numbers\n",
        " - The max/min number\n",
        " - Standard deviation of the array\n",
        " - Mean \n"
      ]
    },
    {
      "cell_type": "code",
      "metadata": {
        "id": "eJln6H1bmaNH",
        "outputId": "26caaf96-3aef-44bb-edd1-c08c950bf7cc",
        "colab": {
          "base_uri": "https://localhost:8080/",
          "height": 34
        }
      },
      "source": [
        "np.mean(arr_int)"
      ],
      "execution_count": 93,
      "outputs": [
        {
          "output_type": "execute_result",
          "data": {
            "text/plain": [
              "181.73"
            ]
          },
          "metadata": {
            "tags": []
          },
          "execution_count": 93
        }
      ]
    },
    {
      "cell_type": "code",
      "metadata": {
        "id": "V_ehoUqUaQjv",
        "outputId": "661b2227-dfa7-4b5f-b528-7fc810435654",
        "colab": {
          "base_uri": "https://localhost:8080/",
          "height": 34
        }
      },
      "source": [
        "np.min(arr_int)"
      ],
      "execution_count": 95,
      "outputs": [
        {
          "output_type": "execute_result",
          "data": {
            "text/plain": [
              "-689"
            ]
          },
          "metadata": {
            "tags": []
          },
          "execution_count": 95
        }
      ]
    },
    {
      "cell_type": "code",
      "metadata": {
        "id": "91laZBQaaVe8",
        "outputId": "e4395d4d-dad2-478b-9568-c5b0b155a3f2",
        "colab": {
          "base_uri": "https://localhost:8080/",
          "height": 34
        }
      },
      "source": [
        "np.max(arr_int)"
      ],
      "execution_count": 97,
      "outputs": [
        {
          "output_type": "execute_result",
          "data": {
            "text/plain": [
              "999"
            ]
          },
          "metadata": {
            "tags": []
          },
          "execution_count": 97
        }
      ]
    },
    {
      "cell_type": "code",
      "metadata": {
        "id": "LqKqjhM_aYiX",
        "outputId": "9468ad86-30eb-45d9-f765-53d5a8eaae23",
        "colab": {
          "base_uri": "https://localhost:8080/",
          "height": 411
        }
      },
      "source": [
        "np.sqrt(arr_int)"
      ],
      "execution_count": 98,
      "outputs": [
        {
          "output_type": "stream",
          "text": [
            "/usr/local/lib/python3.6/dist-packages/ipykernel_launcher.py:1: RuntimeWarning: invalid value encountered in sqrt\n",
            "  \"\"\"Entry point for launching an IPython kernel.\n"
          ],
          "name": "stderr"
        },
        {
          "output_type": "execute_result",
          "data": {
            "text/plain": [
              "array([        nan, 27.45906044, 31.46426545,  4.24264069,         nan,\n",
              "       25.3179778 ,         nan,         nan,         nan,         nan,\n",
              "               nan,         nan,         nan, 10.29563014, 28.65309756,\n",
              "       25.05992817,         nan,         nan,         nan,         nan,\n",
              "       29.76575213, 29.        , 31.60696126,  9.94987437, 31.04834939,\n",
              "               nan,  6.4807407 , 13.6381817 , 17.2626765 , 13.03840481,\n",
              "               nan, 27.58622845, 30.        ,         nan, 25.01999201,\n",
              "               nan,         nan, 13.        , 22.86919325,         nan,\n",
              "               nan, 13.45362405, 26.72077843, 13.07669683,         nan,\n",
              "       22.91287847, 28.46049894,         nan, 20.59126028,         nan,\n",
              "       15.55634919, 17.69180601,  7.54983444, 20.5669638 , 26.17250466,\n",
              "               nan, 27.05549852, 19.28730152, 25.70992026, 25.57342371,\n",
              "               nan, 21.04756518, 16.76305461,         nan, 22.86919325,\n",
              "       21.81742423, 22.91287847, 24.0208243 , 30.62678566,         nan,\n",
              "       18.24828759, 13.41640786,         nan, 24.31049156,         nan,\n",
              "       31.        , 28.37252192,         nan,         nan, 23.19482701,\n",
              "               nan, 29.54657341, 23.83275058,         nan,         nan,\n",
              "       31.40063694, 27.73084925,         nan,         nan, 29.71531592,\n",
              "               nan,         nan, 25.61249695, 12.36931688,         nan,\n",
              "               nan,         nan, 25.19920634,         nan, 19.07878403])"
            ]
          },
          "metadata": {
            "tags": []
          },
          "execution_count": 98
        }
      ]
    },
    {
      "cell_type": "markdown",
      "metadata": {
        "id": "olADoo_SnvoJ"
      },
      "source": [
        "## Array Operations (2d)\n"
      ]
    },
    {
      "cell_type": "code",
      "metadata": {
        "id": "Gl5NVNOtn3kq"
      },
      "source": [
        "arr_normal = np.array([[-1.35589711,  0.32804138, -0.42081221, -0.26130734,  0.70162537,\n",
        "        -2.74984249,  0.68124585, -0.1580792 , -0.14275744,  0.46342884,\n",
        "         0.86430316, -0.07669887],\n",
        "       [-0.74704059, -0.9071367 , -1.64174011,  0.03933122,  0.37675907,\n",
        "         1.90269555,  0.44306442,  0.57069955, -0.28930021, -1.65834518,\n",
        "         0.91165489, -0.24778658],\n",
        "       [ 0.84422231, -2.61441156, -0.25364573,  0.75980507,  0.81245918,\n",
        "         0.4495238 , -1.73419967,  0.06119128,  0.20092236, -0.02241897,\n",
        "        -0.35468241, -1.10875505],\n",
        "       [-1.2590743 , -1.798422  ,  0.29824561,  0.61399003, -2.84641582,\n",
        "        -0.06309182, -0.86245245, -2.00527547, -1.36537977,  1.81020212,\n",
        "         0.15409758,  0.77957902],\n",
        "       [ 0.33642384,  1.6658424 ,  1.01517418, -0.94632536, -0.67836296,\n",
        "        -1.58780134, -1.71699404,  0.19439649,  0.16351275, -2.08961948,\n",
        "        -0.67480237, -0.98241524],\n",
        "       [-0.97960876,  0.7256977 ,  0.2322489 , -0.79256359, -0.86636526,\n",
        "         1.01071361,  0.06147106,  0.31257068,  0.54583426, -0.8035504 ,\n",
        "         0.73390521,  0.05112845],\n",
        "       [-0.17791452, -0.92611399,  0.27351997,  0.25378587,  0.78804843,\n",
        "        -1.06393523,  2.65299826, -0.91232348, -2.93197926,  1.73152395,\n",
        "         0.59431283, -0.10374418],\n",
        "       [ 0.57609783,  0.51063139, -0.06848566,  2.65524085,  0.90236844,\n",
        "        -0.63241958,  0.99904813, -0.6191799 ,  0.44955157, -1.99264591,\n",
        "        -0.94398059, -0.68643509],\n",
        "       [ 0.0329195 , -0.64513047,  0.46339352,  0.22950196,  1.03883248,\n",
        "         2.09548912,  0.91148567, -1.05809727, -2.82315242, -1.24258192,\n",
        "         0.32577142, -0.56579935],\n",
        "       [ 0.76420142,  0.4468688 ,  0.69440669, -0.69501969,  0.99550496,\n",
        "         0.04774205, -0.38475403, -0.34571432, -1.54386284,  2.93070093,\n",
        "         0.55347872, -0.90081639]])"
      ],
      "execution_count": 99,
      "outputs": []
    },
    {
      "cell_type": "markdown",
      "metadata": {
        "id": "3XUvKcjepR2f"
      },
      "source": [
        "For the array above, find the following numbers\n",
        " - The max/min number \n",
        "    - in the entire array\n",
        "    - in each row\n",
        "    - in each column\n",
        " - Mean of \n",
        "    - the entire array\n",
        "    - each row \n",
        "    - each column\n"
      ]
    },
    {
      "cell_type": "code",
      "metadata": {
        "id": "c7H25CyqxEnT",
        "outputId": "a11481cb-c996-439f-d420-7c1823bc940a",
        "colab": {
          "base_uri": "https://localhost:8080/",
          "height": 34
        }
      },
      "source": [
        "np.max(arr_normal)"
      ],
      "execution_count": 101,
      "outputs": [
        {
          "output_type": "execute_result",
          "data": {
            "text/plain": [
              "2.93070093"
            ]
          },
          "metadata": {
            "tags": []
          },
          "execution_count": 101
        }
      ]
    },
    {
      "cell_type": "code",
      "metadata": {
        "id": "hR0qE6xtaxfK",
        "outputId": "428d763c-16e2-44af-b256-45630f9761a8",
        "colab": {
          "base_uri": "https://localhost:8080/",
          "height": 51
        }
      },
      "source": [
        "np.max(arr_normal, axis = 1)"
      ],
      "execution_count": 103,
      "outputs": [
        {
          "output_type": "execute_result",
          "data": {
            "text/plain": [
              "array([0.86430316, 1.90269555, 0.84422231, 1.81020212, 1.6658424 ,\n",
              "       1.01071361, 2.65299826, 2.65524085, 2.09548912, 2.93070093])"
            ]
          },
          "metadata": {
            "tags": []
          },
          "execution_count": 103
        }
      ]
    },
    {
      "cell_type": "code",
      "metadata": {
        "id": "UZ3tRAMJbL3f",
        "outputId": "f3f22a92-1ad5-413e-ac3e-6ea3dd3a6ee2",
        "colab": {
          "base_uri": "https://localhost:8080/",
          "height": 68
        }
      },
      "source": [
        "np.max(arr_normal, axis = 0)"
      ],
      "execution_count": 105,
      "outputs": [
        {
          "output_type": "execute_result",
          "data": {
            "text/plain": [
              "array([0.84422231, 1.6658424 , 1.01517418, 2.65524085, 1.03883248,\n",
              "       2.09548912, 2.65299826, 0.57069955, 0.54583426, 2.93070093,\n",
              "       0.91165489, 0.77957902])"
            ]
          },
          "metadata": {
            "tags": []
          },
          "execution_count": 105
        }
      ]
    },
    {
      "cell_type": "code",
      "metadata": {
        "id": "cGh-IjwrbTZY",
        "outputId": "41a470e5-2622-4e70-a9cf-1fa6dc46aaa3",
        "colab": {
          "base_uri": "https://localhost:8080/",
          "height": 34
        }
      },
      "source": [
        "np.mean(arr_normal)"
      ],
      "execution_count": 107,
      "outputs": [
        {
          "output_type": "execute_result",
          "data": {
            "text/plain": [
              "-0.1274502665833333"
            ]
          },
          "metadata": {
            "tags": []
          },
          "execution_count": 107
        }
      ]
    },
    {
      "cell_type": "code",
      "metadata": {
        "id": "ye7vWMmAbX-H",
        "outputId": "b897a3b6-25dd-40fd-da99-d5a871624b52",
        "colab": {
          "base_uri": "https://localhost:8080/",
          "height": 68
        }
      },
      "source": [
        "np.mean(arr_normal, axis = 0)"
      ],
      "execution_count": 109,
      "outputs": [
        {
          "output_type": "execute_result",
          "data": {
            "text/plain": [
              "array([-0.19656704, -0.3214133 ,  0.05923052,  0.1856439 ,  0.12244539,\n",
              "       -0.05909263,  0.10509132, -0.39598116, -0.7736611 , -0.0873306 ,\n",
              "        0.21640584, -0.38417433])"
            ]
          },
          "metadata": {
            "tags": []
          },
          "execution_count": 109
        }
      ]
    },
    {
      "cell_type": "code",
      "metadata": {
        "id": "oQcFBsRCbd3A",
        "outputId": "1c729717-4185-4755-d121-e85112d79961",
        "colab": {
          "base_uri": "https://localhost:8080/",
          "height": 51
        }
      },
      "source": [
        "np.mean(arr_normal, axis = 1)"
      ],
      "execution_count": 110,
      "outputs": [
        {
          "output_type": "execute_result",
          "data": {
            "text/plain": [
              "array([-0.17722917, -0.10392872, -0.24666578, -0.54533311, -0.44174759,\n",
              "        0.01929016,  0.01484822,  0.09581596, -0.10311398,  0.21356136])"
            ]
          },
          "metadata": {
            "tags": []
          },
          "execution_count": 110
        }
      ]
    },
    {
      "cell_type": "markdown",
      "metadata": {
        "id": "zhajIm8uhiVI"
      },
      "source": [
        "# Control Sequences (optional)\n",
        "\n",
        "## Programming FizzBuzz\n",
        "\n",
        "Write a code for FizzBuzz. The definition of the program is:\n",
        "\n",
        "> A program that prints the numbers from 1 to 100. But for multiples of three print “Fizz” instead of the number and for the multiples of five print “Buzz”. For numbers which are multiples of both three and five print “FizzBuzz”. (from [here](https://www.tomdalling.com/blog/software-design/fizzbuzz-in-too-much-detail/#:~:text=FizzBuzz%20is%20a%20very%20simple,numbers%20from%201%20to%20100))\n",
        "\n",
        "##### Note:\n",
        "\n",
        "- You can find numerous examples online, but please try by yourself :)\n",
        "- The output is like:\n",
        "    ```\n",
        "    [1, 2, 'Fizz', 4, 'Buzz', 'Fizz', 7, 8, 'Fizz', 'Buzz', 11, 'Fizz', 13, 14,\n",
        "     'FizzBuzz', 16, 17, 'Fizz', 19, 'Buzz', 'Fizz', 22, 23, 'Fizz', 'Buzz', \n",
        "     26, 'Fizz', 28, 29, 'FizzBuzz', 31, 32, 'Fizz', 34, 'Buzz', 'Fizz', 37, \n",
        "     38, 'Fizz', 'Buzz', 41, 'Fizz', 43, 44, 'FizzBuzz', 46, 47, 'Fizz', 49, \n",
        "     'Buzz', 'Fizz', 52, 53, 'Fizz', 'Buzz', 56, 'Fizz', 58, 59, 'FizzBuzz', \n",
        "     61, 62, 'Fizz', 64, 'Buzz', 'Fizz', 67, 68, 'Fizz', 'Buzz', 71, 'Fizz', \n",
        "     73, 74, 'FizzBuzz', 76, 77, 'Fizz', 79, 'Buzz', 'Fizz', 82, 83, 'Fizz', \n",
        "     'Buzz', 86, 'Fizz', 88, 89, 'FizzBuzz', 91, 92, 'Fizz', 94, 'Buzz', \n",
        "     'Fizz', 97, 98, 'Fizz']\n",
        "    ```\n",
        "- You need to know how to use `%` (Modulus) operator ([Link](https://www.tutorialspoint.com/python/python_basic_operators.htm))\n",
        "\n"
      ]
    },
    {
      "cell_type": "code",
      "metadata": {
        "id": "ASi7d1p-kDyw",
        "outputId": "1a710b3a-0bdc-48fe-c60a-3aefc54b74dc",
        "colab": {
          "base_uri": "https://localhost:8080/",
          "height": 164
        }
      },
      "source": [
        "arr_fizz = np.arange((0, 100)\n",
        "\n"
      ],
      "execution_count": 114,
      "outputs": [
        {
          "output_type": "error",
          "ename": "TypeError",
          "evalue": "ignored",
          "traceback": [
            "\u001b[0;31m---------------------------------------------------------------------------\u001b[0m",
            "\u001b[0;31mTypeError\u001b[0m                                 Traceback (most recent call last)",
            "\u001b[0;32m<ipython-input-114-3de163f05806>\u001b[0m in \u001b[0;36m<module>\u001b[0;34m()\u001b[0m\n\u001b[0;32m----> 1\u001b[0;31m \u001b[0mnp\u001b[0m\u001b[0;34m.\u001b[0m\u001b[0marange\u001b[0m\u001b[0;34m(\u001b[0m\u001b[0;34m(\u001b[0m\u001b[0;36m0\u001b[0m\u001b[0;34m,\u001b[0m \u001b[0;36m100\u001b[0m\u001b[0;34m)\u001b[0m \u001b[0;34m&\u001b[0m \u001b[0;34m(\u001b[0m\u001b[0;36m3\u001b[0m\u001b[0;34m**\u001b[0m \u001b[0;34m\"fizz\"\u001b[0m\u001b[0;34m)\u001b[0m\u001b[0;34m)\u001b[0m\u001b[0;34m\u001b[0m\u001b[0;34m\u001b[0m\u001b[0m\n\u001b[0m",
            "\u001b[0;31mTypeError\u001b[0m: unsupported operand type(s) for ** or pow(): 'int' and 'str'"
          ]
        }
      ]
    },
    {
      "cell_type": "code",
      "metadata": {
        "id": "bAEaQStrdDHY"
      },
      "source": [
        ""
      ],
      "execution_count": null,
      "outputs": []
    }
  ]
}