{
  "nbformat": 4,
  "nbformat_minor": 0,
  "metadata": {
    "colab": {
      "name": "Week 03 Class - Pandas IO.ipynb",
      "provenance": [],
      "collapsed_sections": [],
      "toc_visible": true
    },
    "kernelspec": {
      "name": "python3",
      "display_name": "Python 3"
    }
  },
  "cells": [
    {
      "cell_type": "markdown",
      "metadata": {
        "id": "H09hKDOdzWar"
      },
      "source": [
        "## New Zealand Crime Data\n",
        "\n",
        "- We will use New Zealand crime data, hosted on a government website"
      ]
    },
    {
      "cell_type": "markdown",
      "metadata": {
        "id": "KHZKFxh0z2l5"
      },
      "source": [
        "## Import Pandas"
      ]
    },
    {
      "cell_type": "code",
      "metadata": {
        "id": "djr6Dc7Zz4up"
      },
      "source": [
        ""
      ],
      "execution_count": null,
      "outputs": []
    },
    {
      "cell_type": "markdown",
      "metadata": {
        "id": "ixE0rf8AywyC"
      },
      "source": [
        "## Download the data\n",
        "\n",
        "The file url is:\n",
        "https://www.stats.govt.nz/assets/Uploads/Tools/CSV-files-for-download/analysis-public-place-assaults-sexual-assaults-and-robberies-2015-csv.csv\n",
        "\n",
        "Get the file with one of the methods:\n",
        "\n",
        "1. Use `!wget`\n",
        "2. Use the browser, download to local, and upload on your google drive\n",
        "3. Download the file, then use the following commands (but didn't work in my environment...)\n",
        "    ```\n",
        "    from google.colab import files\n",
        "    uploaded = files.upload()\n",
        "    ```"
      ]
    },
    {
      "cell_type": "code",
      "metadata": {
        "id": "OH4jPR-KL1dZ"
      },
      "source": [
        ""
      ],
      "execution_count": null,
      "outputs": []
    },
    {
      "cell_type": "markdown",
      "metadata": {
        "id": "bp5kMlbJ1v1k"
      },
      "source": [
        "### Open the file\n",
        "\n",
        "- using a method in pd, you can open the file as DataFrame\n",
        "- then, see the file contents with `.head()` method"
      ]
    },
    {
      "cell_type": "code",
      "metadata": {
        "id": "qOG3hlCIzouq"
      },
      "source": [
        ""
      ],
      "execution_count": null,
      "outputs": []
    },
    {
      "cell_type": "markdown",
      "metadata": {
        "id": "B4_XkbiTzyzY"
      },
      "source": [
        "## Open directly from URL\n",
        "\n",
        "Alternatively, you can use URL to open it directly..."
      ]
    },
    {
      "cell_type": "code",
      "metadata": {
        "id": "YQI-ou4JzvuO"
      },
      "source": [
        ""
      ],
      "execution_count": null,
      "outputs": []
    },
    {
      "cell_type": "markdown",
      "metadata": {
        "id": "hamvTYsLK62s"
      },
      "source": [
        "## Saving the data\n",
        "\n",
        "Pandas supports numerous types of data files under `pd.to_*`, including\n",
        "\n",
        "- `pd.to_csv()`\n",
        "- `pd.to_excel()`\n",
        "- `pd.to_stata()`\n",
        "\n",
        "Let's try some of them.\n",
        "\n",
        "\n"
      ]
    },
    {
      "cell_type": "markdown",
      "metadata": {
        "id": "-ZPgyZK6MVhr"
      },
      "source": [
        "### CSV\n",
        "\n",
        "- Write the data in csv format, then read again with pandas"
      ]
    },
    {
      "cell_type": "code",
      "metadata": {
        "id": "qcQQ3RjCMUee"
      },
      "source": [
        ""
      ],
      "execution_count": null,
      "outputs": []
    },
    {
      "cell_type": "markdown",
      "metadata": {
        "id": "afBCpB29MiDP"
      },
      "source": [
        "### Excel\n",
        "\n",
        "- Write an excel file, open with Google sheet or Excel\n"
      ]
    },
    {
      "cell_type": "code",
      "metadata": {
        "id": "5w8PDZJmMtf5"
      },
      "source": [
        ""
      ],
      "execution_count": null,
      "outputs": []
    }
  ]
}